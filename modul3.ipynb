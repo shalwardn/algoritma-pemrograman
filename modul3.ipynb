{
 "cells": [
  {
   "cell_type": "code",
   "execution_count": 41,
   "id": "3e07e0b3-92c2-4702-9665-efcbc271adf8",
   "metadata": {},
   "outputs": [
    {
     "name": "stdin",
     "output_type": "stream",
     "text": [
      "Masukkan panjang sisi pertama:  4\n",
      "Masukkan panjang sisi kedua:  6\n",
      "Masukkan panjang sisi ketiga:  7\n"
     ]
    },
    {
     "name": "stdout",
     "output_type": "stream",
     "text": [
      "Segitiga sembarang\n"
     ]
    }
   ],
   "source": [
    "#LATIHAN 1\n",
    "\n",
    "def classify_triangle(a, b, c):\n",
    "    if a + b > c and a + c > b and b + c > a:\n",
    "        #segitiga sama sisi\n",
    "        if a == b == c:\n",
    "            return \"Segitiga sama sisi\"\n",
    "        #segitiga sama kaki\n",
    "        elif a == b or b == c or a == c:\n",
    "            return \"Segitiga sama kaki\"\n",
    "        #segitiga siku-siku\n",
    "        elif a**2 + b**2 == c**2 or b**2 + c**2 == a**2 or a**2 + c**2 == b**2:\n",
    "            return \"Segitiga siku-siku\"\n",
    "        else:\n",
    "            return \"Segitiga sembarang\"\n",
    "    else:\n",
    "        return \"segitiga tidak valid\"\n",
    "\n",
    "a = float(input(\"Masukkan panjang sisi pertama: \"))\n",
    "b = float(input(\"Masukkan panjang sisi kedua: \"))\n",
    "c = float(input(\"Masukkan panjang sisi ketiga: \"))\n",
    "\n",
    "print(classify_triangle(a, b, c))"
   ]
  },
  {
   "cell_type": "code",
   "execution_count": 1,
   "id": "88a7af58-2fab-4e98-b9ea-9f5274442380",
   "metadata": {},
   "outputs": [
    {
     "name": "stdin",
     "output_type": "stream",
     "text": [
      "Masukkan nilai a:  1\n",
      "Masukkan nilai b:  -3\n",
      "Masukkan nilai c:  2\n"
     ]
    },
    {
     "name": "stdout",
     "output_type": "stream",
     "text": [
      "Determinan: 1.0\n",
      "Akar-akar real dan berbeda: 2.0 dan 1.0\n"
     ]
    }
   ],
   "source": [
    "#LATIHAN 2\n",
    "\n",
    "import math\n",
    "def hitung_determinan(a, b, c):\n",
    "    return b**2 - 4*a*c\n",
    "\n",
    "def jenis_akar(diskriminan):\n",
    "    if diskriminan > 0:\n",
    "        return \"Akar real dan berbeda.\"\n",
    "    elif diskriminan == 0:\n",
    "        return \"Akar real dan sama.\"\n",
    "    else:\n",
    "        return \"Akar kompleks.\"\n",
    "\n",
    "def cari_akar(a, b, c, diskriminan):\n",
    "    if diskriminan >= 0:\n",
    "        akar1 = (-b + math.sqrt(diskriminan)) // (2*a)\n",
    "        akar2 = (-b - math.sqrt(diskriminan)) // (2*a)\n",
    "        if diskriminan == 0:\n",
    "            return f\"Akar: {akar1}\"\n",
    "        else:\n",
    "            return f\"Akar-akar: {akar1} dan {akar2}\"\n",
    "    else:\n",
    "        akar_real = -b // (2*a)\n",
    "        akar_imaginer = math.sqrt(abs(diskriminan)) // (2*a)\n",
    "        return f\"Akar kompleks: {akar_real} + {akar_imaginer} dan {akar_real} - {akar_imaginer}\"\n",
    "\n",
    "def tampilkan_persamaan(a, b, c):\n",
    "    persamaan = f\"{a}x² + {b}x + {c} = 0\"\n",
    "    return persamaan\n",
    "\n",
    "a = int(input(\"Nilai a: \"))\n",
    "b = int(input(\"Nilai b: \"))\n",
    "c = int(input(\"Nilai c: \"))\n",
    "\n",
    "print(\"Persamaan kuadrat:\", tampilkan_persamaan(a, b, c))\n",
    "\n",
    "diskriminan = hitung_determinan(a, b, c)\n",
    "print(f\"Diskriminan: {diskriminan}\")\n",
    "\n",
    "print(jenis_akar(diskriminan))\n",
    "\n",
    "hasil_akar = cari_akar(a, b, c, diskriminan)\n",
    "print(hasil_akar)"
   ]
  },
  {
   "cell_type": "code",
   "execution_count": null,
   "id": "8139bda9-5156-4ec2-8291-10542f8277ed",
   "metadata": {},
   "outputs": [],
   "source": []
  }
 ],
 "metadata": {
  "kernelspec": {
   "display_name": "Python 3 (ipykernel)",
   "language": "python",
   "name": "python3"
  },
  "language_info": {
   "codemirror_mode": {
    "name": "ipython",
    "version": 3
   },
   "file_extension": ".py",
   "mimetype": "text/x-python",
   "name": "python",
   "nbconvert_exporter": "python",
   "pygments_lexer": "ipython3",
   "version": "3.12.4"
  }
 },
 "nbformat": 4,
 "nbformat_minor": 5
}
