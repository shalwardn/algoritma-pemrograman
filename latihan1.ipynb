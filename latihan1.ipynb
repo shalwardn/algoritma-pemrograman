{
 "cells": [
  {
   "cell_type": "code",
   "execution_count": 31,
   "id": "cb4e653a-2d0b-4b7e-9bd5-053173dd2d0c",
   "metadata": {},
   "outputs": [
    {
     "name": "stdin",
     "output_type": "stream",
     "text": [
      "Nama kamu siapa?  shalwa\n",
      "Darimana kamu?  jakarta\n",
      "Sebelumnya kamu ber sekolah dimana?  smk telkom jakarta\n"
     ]
    },
    {
     "name": "stdout",
     "output_type": "stream",
     "text": [
      "Hallo selamat siang shalwa\n",
      "Wah dari jakarta\n",
      "Pasti menyenangkan sekolah di smk telkom jakarta\n"
     ]
    }
   ],
   "source": [
    "#latihan1\n",
    "\n",
    "nama = input(\"Nama kamu siapa? \")\n",
    "asal = input(\"Darimana kamu? \")\n",
    "sekolah = input(\"Sebelumnya kamu ber sekolah dimana? \")\n",
    "print(\"Hallo selamat siang \" +str(nama))\n",
    "print(\"Wah dari \" +str(asal))\n",
    "print(\"Pasti menyenangkan sekolah di \" +str(sekolah))"
   ]
  },
  {
   "cell_type": "code",
   "execution_count": 51,
   "id": "44e98af2-b3de-44bd-970d-4610bedebaec",
   "metadata": {},
   "outputs": [
    {
     "name": "stdout",
     "output_type": "stream",
     "text": [
      "Hitung luas ruangan\n"
     ]
    },
    {
     "name": "stdin",
     "output_type": "stream",
     "text": [
      "Panjang :  12\n",
      "Lebar :  12\n",
      "Satuan :  cm\n"
     ]
    },
    {
     "name": "stdout",
     "output_type": "stream",
     "text": [
      "Luas ruangan dengan panjang 12 dan lebar 12 adalah 144cm\n"
     ]
    }
   ],
   "source": [
    "#Latihan2\n",
    "\n",
    "print(\"Hitung luas ruangan\")\n",
    "panjang = int(input(\"Panjang : \"))\n",
    "lebar = int(input(\"Lebar : \"))\n",
    "satuan = str(input(\"Satuan : \"))\n",
    "luas = panjang*lebar\n",
    "print(\"Luas ruangan dengan panjang \" + str(panjang) + \" dan lebar \" +str(lebar) + \" adalah \" +str(luas) + str(satuan))"
   ]
  }
 ],
 "metadata": {
  "kernelspec": {
   "display_name": "Python 3 (ipykernel)",
   "language": "python",
   "name": "python3"
  },
  "language_info": {
   "codemirror_mode": {
    "name": "ipython",
    "version": 3
   },
   "file_extension": ".py",
   "mimetype": "text/x-python",
   "name": "python",
   "nbconvert_exporter": "python",
   "pygments_lexer": "ipython3",
   "version": "3.12.4"
  }
 },
 "nbformat": 4,
 "nbformat_minor": 5
}
