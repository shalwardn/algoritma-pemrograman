{
 "cells": [
  {
   "cell_type": "code",
   "execution_count": 33,
   "id": "97cacbaa-e219-4fd2-8ea0-bec3bd57c363",
   "metadata": {},
   "outputs": [
    {
     "name": "stdin",
     "output_type": "stream",
     "text": [
      "a =  10\n",
      "b =  2\n"
     ]
    },
    {
     "name": "stdout",
     "output_type": "stream",
     "text": [
      "hasilnya adalah : 12\n"
     ]
    }
   ],
   "source": [
    "#penjumlahan\n",
    "a = int(input(\"a = \"))\n",
    "b = int(input(\"b = \"))\n",
    "jumlah = a+b\n",
    "print(\"hasilnya adalah : \"+ str(jumlah))"
   ]
  },
  {
   "cell_type": "code",
   "execution_count": 7,
   "id": "c4d97d0b-ae0a-4e55-92b9-8baaa2e236ca",
   "metadata": {},
   "outputs": [
    {
     "name": "stdin",
     "output_type": "stream",
     "text": [
      "b =  23\n",
      "a =  12\n"
     ]
    },
    {
     "name": "stdout",
     "output_type": "stream",
     "text": [
      "selisihnya adalah : 11\n"
     ]
    }
   ],
   "source": [
    "#selisih\n",
    "b = int(input(\"b = \"))\n",
    "a = int(input(\"a = \"))\n",
    "selisih = b-a\n",
    "print(\"selisihnya adalah : \"+ str(selisih))"
   ]
  },
  {
   "cell_type": "code",
   "execution_count": 9,
   "id": "6e939219-c88a-4444-92db-e170a97b08a6",
   "metadata": {},
   "outputs": [
    {
     "name": "stdin",
     "output_type": "stream",
     "text": [
      "a =  2\n",
      "b =  3\n"
     ]
    },
    {
     "name": "stdout",
     "output_type": "stream",
     "text": [
      "hasil perkaliannya adalah : 6\n"
     ]
    }
   ],
   "source": [
    "#perkalian\n",
    "a = int(input(\"a = \"))\n",
    "b = int(input(\"b = \"))\n",
    "kali = a*b\n",
    "print(\"hasil perkaliannya adalah : \"+ str(kali))"
   ]
  },
  {
   "cell_type": "code",
   "execution_count": 17,
   "id": "ee956ad8-9d8f-4990-af55-7adbdcdc9280",
   "metadata": {},
   "outputs": [
    {
     "name": "stdin",
     "output_type": "stream",
     "text": [
      "a =  7\n",
      "b =  3\n"
     ]
    },
    {
     "name": "stdout",
     "output_type": "stream",
     "text": [
      "sisa pembagiannya adalah : 1\n"
     ]
    }
   ],
   "source": [
    "#sisa pembagian (modulo)\n",
    "a = int(input(\"a = \"))\n",
    "b = int(input(\"b = \"))\n",
    "modulo = a%b\n",
    "print(\"sisa pembagiannya adalah : \"+ str(modulo))"
   ]
  },
  {
   "cell_type": "code",
   "execution_count": 19,
   "id": "90d2ed98-64eb-488a-8813-4a1e4067b639",
   "metadata": {},
   "outputs": [
    {
     "name": "stdin",
     "output_type": "stream",
     "text": [
      "a =  9\n",
      "b =  3\n"
     ]
    },
    {
     "name": "stdout",
     "output_type": "stream",
     "text": [
      "hasil pembagiannya adalah : 3\n"
     ]
    }
   ],
   "source": [
    "#pembagian\n",
    "a = int(input(\"a = \"))\n",
    "b = int(input(\"b = \"))\n",
    "pembagian = a//b\n",
    "print(\"hasil pembagiannya adalah : \"+ str(pembagian))"
   ]
  },
  {
   "cell_type": "code",
   "execution_count": 29,
   "id": "ef9a0e86-4121-4df2-ad51-548aa21db1c0",
   "metadata": {},
   "outputs": [
    {
     "name": "stdout",
     "output_type": "stream",
     "text": [
      "0.6989700043360189\n"
     ]
    }
   ],
   "source": [
    "#log\n",
    "import math\n",
    "log_a = math.log10(a)\n",
    "print(log_a)"
   ]
  },
  {
   "cell_type": "code",
   "execution_count": 31,
   "id": "d9a278bf-d3db-46e0-b086-2bbf33a25803",
   "metadata": {},
   "outputs": [
    {
     "name": "stdin",
     "output_type": "stream",
     "text": [
      "a =  3\n",
      "b =  4\n"
     ]
    },
    {
     "name": "stdout",
     "output_type": "stream",
     "text": [
      "hasil pangkatnya adalah : 81\n"
     ]
    }
   ],
   "source": [
    "#pangkat\n",
    "a = int(input(\"a = \"))\n",
    "b = int(input(\"b = \"))\n",
    "pangkat = a**b\n",
    "print(\"hasil pangkatnya adalah : \"+ str(pangkat))"
   ]
  },
  {
   "cell_type": "code",
   "execution_count": null,
   "id": "3001e0c9-7b99-4d86-b2a1-e0562b338131",
   "metadata": {},
   "outputs": [],
   "source": [
    "#penjumlahan\n",
    "a = int(input(\"a = \"))\n",
    "b = int(input(\"b = \"))\n",
    "jumlah = a+b\n",
    "print(\"hasilnya adalah : \"+ str(jumlah))\n",
    "\n",
    "#selisih\n",
    "b = int(input(\"b = \"))\n",
    "a = int(input(\"a = \"))\n",
    "selisih = b-a\n",
    "print(\"selisihnya adalah : \"+ str(selisih))\n",
    "\n",
    "#perkalian\n",
    "a = int(input(\"a = \"))\n",
    "b = int(input(\"b = \"))\n",
    "kali = a*b\n",
    "print(\"hasil perkaliannya adalah : \"+ str(kali))\n",
    "\n",
    "#sisa pembagian (modulo)\n",
    "a = int(input(\"a = \"))\n",
    "b = int(input(\"b = \"))\n",
    "modulo = a%b\n",
    "print(\"sisa pembagiannya adalah : \"+ str(modulo))\n",
    "\n",
    "#pembagian\n",
    "a = int(input(\"a = \"))\n",
    "b = int(input(\"b = \"))\n",
    "pembagian = a//b\n",
    "print(\"hasil pembagiannya adalah : \"+ str(pembagian))\n",
    "\n",
    "#log\n",
    "import math\n",
    "log_a = math.log10(a)\n",
    "print(log_a)\n",
    "\n",
    "#pangkat\n",
    "a = int(input(\"a = \"))\n",
    "b = int(input(\"b = \"))\n",
    "pangkat = a**b\n",
    "print(\"hasil pangkatnya adalah : \"+ str(pangkat))"
   ]
  },
  {
   "cell_type": "code",
   "execution_count": 61,
   "id": "f7266f40-69d2-40d6-b5f5-2c0a44c94ad7",
   "metadata": {},
   "outputs": [
    {
     "name": "stdin",
     "output_type": "stream",
     "text": [
      "a =  7\n",
      "b =  9\n"
     ]
    },
    {
     "name": "stdout",
     "output_type": "stream",
     "text": [
      "hasilnya adalah : 16\n",
      "selisihnya adalah : 2\n",
      "hasil perkaliannya adalah : 63\n",
      "sisa pembagiannya adalah : 7\n",
      "hasil pembagiannya adalah : 0\n",
      "0.8450980400142568\n",
      "hasil pangkatnya adalah : 40353607\n"
     ]
    }
   ],
   "source": [
    "#LATIHAN SATU\n",
    "a = int(input(\"a = \"))\n",
    "b = int(input(\"b = \"))\n",
    "\n",
    "jumlah = a+b\n",
    "print(\"hasilnya adalah : \"+ str(jumlah))\n",
    "\n",
    "selisih = b-a\n",
    "print(\"selisihnya adalah : \"+ str(selisih))\n",
    "\n",
    "kali = a*b\n",
    "print(\"hasil perkaliannya adalah : \"+ str(kali))\n",
    "\n",
    "modulo = a%b\n",
    "print(\"sisa pembagiannya adalah : \"+ str(modulo))\n",
    "\n",
    "pembagian = a//b\n",
    "print(\"hasil pembagiannya adalah : \"+ str(pembagian))\n",
    "\n",
    "import math\n",
    "log_a = math.log10(a)\n",
    "print(log_a)\n",
    "\n",
    "pangkat = a**b\n",
    "print(\"hasil pangkatnya adalah : \"+ str(pangkat))"
   ]
  },
  {
   "cell_type": "code",
   "execution_count": 63,
   "id": "3ff84d7c-2d5e-4671-a2fd-4dc3d5c76760",
   "metadata": {},
   "outputs": [
    {
     "name": "stdin",
     "output_type": "stream",
     "text": [
      "Lintang Kota 1 =  123\n",
      "Bujur Kota 1 =  321\n",
      "Lintang Kota 2 =  100\n",
      "Bujur Kota 2 =  300\n"
     ]
    },
    {
     "name": "stdout",
     "output_type": "stream",
     "text": [
      "2658.042593715378\n"
     ]
    }
   ],
   "source": [
    "#LATIHAN DUA\n",
    "\n",
    "from math import *\n",
    "lintang1 = math.radians(float(input(\"Lintang Kota 1 = \")))\n",
    "bujur1 = math.radians(float(input(\"Bujur Kota 1 = \")))\n",
    "lintang2 = math.radians(float(input(\"Lintang Kota 2 = \")))\n",
    "bujur2 = math.radians(float(input(\"Bujur Kota 2 = \")))\n",
    "R = 6371\n",
    "\n",
    "lat = lintang2-lintang1\n",
    "long = bujur2-bujur1\n",
    "a = math.sin(lat/2)**2 + math.cos(lintang1)*math.cos(lintang2)*math.sin(long/2)**2\n",
    "c = 2*math.atan2(sqrt(a), sqrt(1-a))\n",
    "d = R*c\n",
    "print(d)"
   ]
  },
  {
   "cell_type": "code",
   "execution_count": null,
   "id": "5e8c6f70-f30c-4a52-be4f-b30a84cf2a41",
   "metadata": {},
   "outputs": [],
   "source": []
  }
 ],
 "metadata": {
  "kernelspec": {
   "display_name": "Python 3 (ipykernel)",
   "language": "python",
   "name": "python3"
  },
  "language_info": {
   "codemirror_mode": {
    "name": "ipython",
    "version": 3
   },
   "file_extension": ".py",
   "mimetype": "text/x-python",
   "name": "python",
   "nbconvert_exporter": "python",
   "pygments_lexer": "ipython3",
   "version": "3.12.4"
  }
 },
 "nbformat": 4,
 "nbformat_minor": 5
}
