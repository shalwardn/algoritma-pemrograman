{
 "cells": [
  {
   "cell_type": "code",
   "execution_count": 1,
   "id": "c318cc29-dd67-4f3a-a8cc-109c9dbab55e",
   "metadata": {},
   "outputs": [
    {
     "name": "stdout",
     "output_type": "stream",
     "text": [
      "Hitung luas ruangan\n"
     ]
    },
    {
     "name": "stdin",
     "output_type": "stream",
     "text": [
      "Panjang :  12\n",
      "Lebar :  12\n",
      "Satuan :  m\n"
     ]
    },
    {
     "name": "stdout",
     "output_type": "stream",
     "text": [
      "Luas ruangan dengan panjang 12 dan lebar 12 adalah 144m\n"
     ]
    }
   ],
   "source": [
    "#Latihan2\n",
    "\n",
    "print(\"Hitung luas ruangan\")\n",
    "panjang = int(input(\"Panjang : \"))\n",
    "lebar = int(input(\"Lebar : \"))\n",
    "satuan = str(input(\"Satuan : \"))\n",
    "luas = panjang*lebar\n",
    "print(\"Luas ruangan dengan panjang \" + str(panjang) + \" dan lebar \" +str(lebar) + \" adalah \" +str(luas) + str(satuan))"
   ]
  },
  {
   "cell_type": "code",
   "execution_count": null,
   "id": "8009c9ec-b243-447b-8a51-87e0474129f7",
   "metadata": {},
   "outputs": [],
   "source": []
  }
 ],
 "metadata": {
  "kernelspec": {
   "display_name": "Python 3 (ipykernel)",
   "language": "python",
   "name": "python3"
  },
  "language_info": {
   "codemirror_mode": {
    "name": "ipython",
    "version": 3
   },
   "file_extension": ".py",
   "mimetype": "text/x-python",
   "name": "python",
   "nbconvert_exporter": "python",
   "pygments_lexer": "ipython3",
   "version": "3.12.4"
  }
 },
 "nbformat": 4,
 "nbformat_minor": 5
}
